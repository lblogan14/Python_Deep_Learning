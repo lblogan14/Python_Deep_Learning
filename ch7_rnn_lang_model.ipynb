{
  "nbformat": 4,
  "nbformat_minor": 0,
  "metadata": {
    "colab": {
      "name": "ch7_rnn_lang_model.ipynb",
      "version": "0.3.2",
      "provenance": [],
      "collapsed_sections": [],
      "include_colab_link": true
    },
    "kernelspec": {
      "name": "python3",
      "display_name": "Python 3"
    }
  },
  "cells": [
    {
      "cell_type": "markdown",
      "metadata": {
        "id": "view-in-github",
        "colab_type": "text"
      },
      "source": [
        "<a href=\"https://colab.research.google.com/github/lblogan14/Python_Deep_Learning/blob/master/ch7_rnn_lang_model.ipynb\" target=\"_parent\"><img src=\"https://colab.research.google.com/assets/colab-badge.svg\" alt=\"Open In Colab\"/></a>"
      ]
    },
    {
      "cell_type": "markdown",
      "metadata": {
        "id": "hvB72tS3rOWY",
        "colab_type": "text"
      },
      "source": [
        "#Recurrent Neural Networks\n",
        "RNNs help deal with sequences of variable length by defining a recurrence relation over these sequences. \n",
        "\n",
        "An RNN is defined as a recurrence relation:\n",
        "$$s_t=f(s_{t-1},x_t)$$\n",
        "where $f$ is a differentiable function, $s$ is a vector of values called internal network state (at step $t$), and $x_t$ is the network input at step $t$. $s_t$ is a function of both the current input as well as the previous state $s_{t-1}$. The recurrence relation defines how the state evolves step by step over the sequence via a feedback loop over previous states:\n",
        "\n",
        "![](https://github.com/lblogan14/Python_Deep_Learning/blob/master/img/ch7/rnn.PNG?raw=true)\n",
        "\n",
        "RNN has three sets of parameters (or weights):\n",
        "* $U$ transforms the input $x_t$ to the state $s_t$\n",
        "* $W$ transforms the previous state $s_{t-1}$ to the output $s_t$\n",
        "* $V$ maps the newly computed internal state $s_t$ to the output $y_t$\n",
        "\n",
        "The internal state and the network output are defined as:\n",
        "$$s_t=f(s_{t-1}*W+x_t*U)$$\n",
        "$$y_t=s_t*V$$\n",
        "where $f$ is the non-linear activation function.\n",
        "\n",
        "In a word-level language model, the input $x$ is a sequence of words encoded in input vectors $(x_1...x_t...)$. The state $s$ will be a sequence of state vectors $(s_1...s_t...)$. The output $y$ will be a sequence of probability vectors $(y_1...y_t...)$ of the next words in sequence.\n",
        "\n",
        "In a RNN, each state is dependent on all previous computations via this\n",
        "recurrence relation.\n",
        "\n",
        "A **stacked RNN** is form if multiple RNNs are stacked, as shown below. The cell state $s_t^l$ of a RNN cell at level $l$ at time $t$ will take the output $y_t^{l-1}$ of the RNN cell from level $l-1$ and previous cell state $s_{t-1}^l$ of the cell at the same level $l$ as the input:\n",
        "$$s_t^l = f(s_{t-1}^l, y_t^{l-1})$$\n",
        "\n",
        "![](https://github.com/lblogan14/Python_Deep_Learning/blob/master/img/ch7/stacked_rnn.PNG?raw=true)\n",
        "\n",
        "The following are the possible applications of RNN:\n",
        "* **One-to-one**: Non-sequential processing. Example: image classification\n",
        "* **One-to-many**: This processing generates a sequence based on a single input, for example, caption generation from an image\n",
        "* **Many-to-one**: This processing outputs a single result based on a sequence, for example, sentiment classification from text.\n",
        "* **Many-to-many indirect**: A sequence is encoded into a state vector, after which this state vector is decoded into a new sequence, for example, language translation\n",
        "* **Many-to-many direct**: This outputs a result for each intput step, for example, frame phoneme labeling in speech recognition.\n",
        "\n",
        "![](https://github.com/lblogan14/Python_Deep_Learning/blob/master/img/ch7/rnn_combination.PNG?raw=true)"
      ]
    },
    {
      "cell_type": "markdown",
      "metadata": {
        "id": "F2C8xg2dxlDh",
        "colab_type": "text"
      },
      "source": [
        "##RNN Implementation\n",
        "Use RNN to train with a toy example, counting ones in q sequence, which is a \"many-to-one\" relationship. The RNN is shown below:\n",
        "\n",
        "![](https://github.com/lblogan14/Python_Deep_Learning/blob/master/img/ch7/basic_rnn.PNG?raw=true)\n",
        "\n",
        "The network will have only two parameters: an input weight $U$ and a recurrence weight $W$. The output weight $V$ is set to 1 so as to read out the last state as the output $y$."
      ]
    },
    {
      "cell_type": "code",
      "metadata": {
        "id": "Lde0KOja1p6F",
        "colab_type": "code",
        "colab": {}
      },
      "source": [
        "import numpy as np"
      ],
      "execution_count": 0,
      "outputs": []
    },
    {
      "cell_type": "code",
      "metadata": {
        "id": "ytJhYhkZ1q8A",
        "colab_type": "code",
        "colab": {}
      },
      "source": [
        "# The first dimension represents the mini-batch\n",
        "x = np.array([[0,0,0,0,1,0,1,0,1,0]])\n",
        "y = np.array([3])"
      ],
      "execution_count": 0,
      "outputs": []
    },
    {
      "cell_type": "markdown",
      "metadata": {
        "id": "PjtMMJid3vtS",
        "colab_type": "text"
      },
      "source": [
        "Define the recurrence realtion:"
      ]
    },
    {
      "cell_type": "code",
      "metadata": {
        "id": "pX0nBUXa3yIo",
        "colab_type": "code",
        "colab": {}
      },
      "source": [
        "def step(s, x, U, W):\n",
        "    return x * U + s * W"
      ],
      "execution_count": 0,
      "outputs": []
    },
    {
      "cell_type": "markdown",
      "metadata": {
        "id": "NRhkhrVN5BWf",
        "colab_type": "text"
      },
      "source": [
        "All the inputs are scalar values. If U=1, then wheneve input is received, its full value is obtained. If W=1, then the accumulated value would never decay."
      ]
    },
    {
      "cell_type": "markdown",
      "metadata": {
        "id": "lr4vpaw_5Tcq",
        "colab_type": "text"
      },
      "source": [
        "###Backpropagation through time\n",
        "The main difference between regular backpropagation and backpropagation through time is that the recurrent network is unfolded through time for a certain number of time steps as shown before. One hidden layer of that network represents one step through time. THe only differences are that each layer has multiple inputs: the previous state $s_{t-1}$ and the current input $x_t$. The parameters $U$ and $W$ are shared between all hidden layers.\n",
        "\n",
        "The forward pass unwraps the RNN along the sequence and builds a stack of states for each step. The following is an implementation of the forward pass, which returns the activation $s$ for each recurrent step and each sample in the batch:"
      ]
    },
    {
      "cell_type": "code",
      "metadata": {
        "id": "xhLL4KsK8L4X",
        "colab_type": "code",
        "colab": {}
      },
      "source": [
        "def forward(x, U, W):\n",
        "    # Number of samples in the mini-batch\n",
        "    number_of_samples = len(x)\n",
        "\n",
        "    # Length of each sample\n",
        "    sequence_length = len(x[0])\n",
        "\n",
        "    # Initialize the state activation for each sample along the sequence\n",
        "    s = np.zeros((number_of_samples, sequence_length + 1))\n",
        "\n",
        "    # Update the states over the sequence\n",
        "    for t in range(0, sequence_length):\n",
        "        s[:, t+1] = step(s[:,t], x[:,t], U, W) # step function\n",
        "\n",
        "    return s"
      ],
      "execution_count": 0,
      "outputs": []
    },
    {
      "cell_type": "markdown",
      "metadata": {
        "id": "VPSpIytg9LqX",
        "colab_type": "text"
      },
      "source": [
        "Since the unfolded RNN is equivalent to a regular feedforward network, use chain rule in backpropagation.\n",
        "\n",
        "Because the weights $W$ and $U$ are shared across the layers, the error derivatives are accumulated for each recurrent step and then the weightes are update in the end with the accumulated value.\n",
        "\n",
        "The recurrence relation to propagate the gradient through the network can be written as\n",
        "$$\\frac{\\partial J}{\\partial s_{t-1}}=\\frac{\\partial J}{\\partial s_t}\\frac{\\partial s_t}{\\partial s_{t-1}}=\\frac{\\partial J}{\\partial s_t}W$$\n",
        "where $J$ is the loss function.\n",
        "\n",
        "The gradients of the parameters are accumulated as follows:\n",
        "$$\\frac{\\partial J}{\\partial U}=\\sum_{t=0}^{n}\\frac{\\partial J}{\\partial s_{t}}x_t$$\n",
        "$$\\frac{\\partial J}{\\partial W}=\\sum_{t=0}^{n}\\frac{\\partial J}{\\partial s_{t}}s_{t-1}$$\n",
        "\n",
        "The following is an implementation of the backward pass:"
      ]
    },
    {
      "cell_type": "markdown",
      "metadata": {
        "id": "0LjSiva4_Pro",
        "colab_type": "text"
      },
      "source": [
        "1. Accumulate the gradients $U$ and $W$ in `gU` and `gW`, respectively."
      ]
    },
    {
      "cell_type": "code",
      "metadata": {
        "id": "woqqkDRK8_z0",
        "colab_type": "code",
        "colab": {}
      },
      "source": [
        "def backward(x, s, y, W):\n",
        "    sequence_length = len(x[0])\n",
        "\n",
        "    # The network output is just the last activation of sequence\n",
        "    s_t = s[:, -1]\n",
        "\n",
        "    # Compute the gradient of the output w.r.t. MSE cost function at final state\n",
        "    gS = 2 * (s_t - y)\n",
        "\n",
        "    # Set the gradient accumulations to 0\n",
        "    gU, gW = 0, 0\n",
        "\n",
        "    # Accumulate gradients backwards\n",
        "    for k in range(sequence_length, 0, -1):\n",
        "        # compute the parameter gradients and accumulate the results\n",
        "        gU += np.sum(gS * x[:, k-1])\n",
        "        gW += np.sum(gS * s[:, k-1])\n",
        "\n",
        "        # compute the gradient at the output of the previous layer\n",
        "        gS = gS * W\n",
        "\n",
        "    return gU, gW"
      ],
      "execution_count": 0,
      "outputs": []
    },
    {
      "cell_type": "markdown",
      "metadata": {
        "id": "VMMT7lKv_YQ6",
        "colab_type": "text"
      },
      "source": [
        "2. Use gradient descent to optimize the network with MSE"
      ]
    },
    {
      "cell_type": "code",
      "metadata": {
        "id": "XaizVbS0_c9H",
        "colab_type": "code",
        "colab": {}
      },
      "source": [
        "def train(x, y, epochs, learning_rate = 0.0005):\n",
        "    '''Train the network'''\n",
        "\n",
        "    # Set initial parameters\n",
        "    weights = (-2, 0) # (U, W)\n",
        "\n",
        "    # Accumulate the losses and their respective weights\n",
        "    losses = list()\n",
        "    weights_u = list()\n",
        "    weights_w = list()\n",
        "\n",
        "    # Perform iterative gradient descent\n",
        "    for i in range(epochs):\n",
        "        # Perform forward and backward pass to get the gradients\n",
        "        s = forward(x, weights[0], weights[1])\n",
        "\n",
        "        # Compute the loss\n",
        "        loss = (y[0] - s[-1, -1])**2\n",
        "\n",
        "        # Store the loss and weights values for later display\n",
        "        losses.append(loss)\n",
        "\n",
        "        weights_u.append(weights[0])\n",
        "        weights_w.append(weights[1])\n",
        "\n",
        "        gradients = backward(x, s, y, weights[1])\n",
        "\n",
        "        # Update each parameter `p` by p = p - (gradient * learning_rate)\n",
        "        # `gp` is the gradient of parameter `p`\n",
        "        weights = tuple((p - gp*learning_rate) for p, gp in zip(weights, gradients))\n",
        "\n",
        "    print(weights)\n",
        "\n",
        "    return np.array(losses), np.array(weights_u), np.array(weights_w)"
      ],
      "execution_count": 0,
      "outputs": []
    },
    {
      "cell_type": "markdown",
      "metadata": {
        "id": "vFOIcDSHK5Du",
        "colab_type": "text"
      },
      "source": [
        "3. Implement the `plot_training` function to display the weights and the loss:"
      ]
    },
    {
      "cell_type": "code",
      "metadata": {
        "id": "xvFIRM82AmUa",
        "colab_type": "code",
        "colab": {}
      },
      "source": [
        "def plot_training(losses, weights_u, weights_w):\n",
        "    import matplotlib.pyplot as plt\n",
        "\n",
        "    # remove nan and inf values\n",
        "    losses = losses[~np.isnan(losses)][:-1]\n",
        "    weights_u = weights_u[~np.isnan(weights_u)][:-1]\n",
        "    weights_w = weights_w[~np.isnan(weights_w)][:-1]\n",
        "\n",
        "    # plot the weights U and W\n",
        "    fig, ax1 = plt.subplots(figsize=(5, 3.4))\n",
        "\n",
        "    ax1.set_ylim(-3, 2)\n",
        "    ax1.set_xlabel('epochs')\n",
        "    ax1.plot(weights_w, label='W', color='red', linestyle='--')\n",
        "    ax1.plot(weights_u, label='U', color='blue', linestyle=':')\n",
        "    ax1.legend(loc='upper left')\n",
        "\n",
        "    # instantiate a second axis that shares the same x-axis\n",
        "    # plot the loss on the second axis\n",
        "    ax2 = ax1.twinx()\n",
        "\n",
        "    # uncomment to plot exploding gradients\n",
        "    ax2.set_ylim(-3, 200)\n",
        "    ax2.plot(losses, label='Loss', color='green')\n",
        "    ax2.tick_params(axis='y', labelcolor='green')\n",
        "    ax2.legend(loc='upper right')\n",
        "\n",
        "    fig.tight_layout()\n",
        "\n",
        "    plt.show()"
      ],
      "execution_count": 0,
      "outputs": []
    },
    {
      "cell_type": "markdown",
      "metadata": {
        "id": "rxXh9E95MvbO",
        "colab_type": "text"
      },
      "source": [
        "4. Run..."
      ]
    },
    {
      "cell_type": "code",
      "metadata": {
        "id": "dJVFQtrmMuvT",
        "colab_type": "code",
        "outputId": "0e545ccb-e6db-49a3-e5d5-af8afe15ad09",
        "colab": {
          "base_uri": "https://localhost:8080/",
          "height": 272
        }
      },
      "source": [
        "losses, weights_u, weights_w = train(x, y, epochs=150)\n",
        "plot_training(losses, weights_u, weights_w)"
      ],
      "execution_count": 0,
      "outputs": [
        {
          "output_type": "stream",
          "text": [
            "(-2.088692479228279, -0.7529413189879612)\n"
          ],
          "name": "stdout"
        },
        {
          "output_type": "display_data",
          "data": {
            "image/png": "[encoded data removed]",
            "text/plain": [
              "<Figure size 360x244.8 with 2 Axes>"
            ]
          },
          "metadata": {
            "tags": []
          }
        }
      ]
    },
    {
      "cell_type": "markdown",
      "metadata": {
        "id": "5bk6VgPFNOD8",
        "colab_type": "text"
      },
      "source": [
        "###Vanishing and exploding gradients\n",
        "The preceding code has an issue. Try with a longer sequence:"
      ]
    },
    {
      "cell_type": "code",
      "metadata": {
        "id": "zks-MgmoM_3f",
        "colab_type": "code",
        "colab": {}
      },
      "source": [
        "x = np.array([[0, 0, 0, 0, 1, 0, 1, 0, 1, 0, 0, 0, 0, 0, 1, 0, 1, 0, 1, 0, 0, 0, 0, 0, 1, 0, 1, 0, 1, 0, 0, 0, 0, 0, 1, 0, 1, 0, 1, 0]])\n",
        "y = np.array([12])"
      ],
      "execution_count": 0,
      "outputs": []
    },
    {
      "cell_type": "code",
      "metadata": {
        "id": "hJ7KOKKDNdxu",
        "colab_type": "code",
        "outputId": "199443da-6eea-4cc9-d629-954787dd4e0c",
        "colab": {
          "base_uri": "https://localhost:8080/",
          "height": 379
        }
      },
      "source": [
        "losses, weights_u, weights_w = train(x, y, epochs=150)\n",
        "plot_training(losses, weights_u, weights_w)"
      ],
      "execution_count": 0,
      "outputs": [
        {
          "output_type": "stream",
          "text": [
            "/usr/local/lib/python3.6/dist-packages/ipykernel_launcher.py:2: RuntimeWarning: overflow encountered in multiply\n",
            "  \n",
            "/usr/local/lib/python3.6/dist-packages/ipykernel_launcher.py:16: RuntimeWarning: invalid value encountered in multiply\n",
            "  app.launch_new_instance()\n",
            "/usr/local/lib/python3.6/dist-packages/ipykernel_launcher.py:17: RuntimeWarning: invalid value encountered in multiply\n"
          ],
          "name": "stderr"
        },
        {
          "output_type": "stream",
          "text": [
            "(nan, nan)\n"
          ],
          "name": "stdout"
        },
        {
          "output_type": "display_data",
          "data": {
            "image/png": "[encoded data removed]",
            "text/plain": [
              "<Figure size 360x244.8 with 2 Axes>"
            ]
          },
          "metadata": {
            "tags": []
          }
        }
      ]
    },
    {
      "cell_type": "markdown",
      "metadata": {
        "id": "V43lyewONnRp",
        "colab_type": "text"
      },
      "source": [
        "The reason for these warnings is that the final parameters $U$ and $W$ end up as **Not a Number (NaN)**, as shown in the graph.\n",
        "\n",
        "The weights slowly move toward the optimum and the loss decreases until it overshoots at epoch 23. What happens is that the cost surface trained on is highly unstable. This is known as exploding gradients.\n",
        "\n",
        "There is also the vanishing gradient problem. The gradient decays exponentially over the number of steps to a point where it becomes extremely smaller in the earlier states. This problem is harder to detect because the training will still work and the network will produce valid outputs (unlike with exploding gradients). It just won't be able to learn long-term dependencies.\n",
        "\n",
        "* Depending on the sequence's length, an unfolded RNN can be much deeper compared to a regular network.\n",
        "* The weights W are shared across all steps, which means that the recurrence relation that propagates the gradient backward through time forms a geometric sequence:\n",
        "$$\\frac{\\partial s_t}{\\partial s_{t-m}}=W^m$$\n",
        "In this simple linear RNN, the gradient grows exponentially if $|W|>1$ (exploding gradient)."
      ]
    },
    {
      "cell_type": "markdown",
      "metadata": {
        "id": "3n4ZXO_rM3dt",
        "colab_type": "text"
      },
      "source": [
        "##Long Short-Term Memory\n",
        "LSTMs can handle long-term dependencies due to a specially crafted memory cell. The key idea of LSTM is the cell state (in addition to the hidden RNN state), where the information can only be explicitly written in or removed so that the state stays constant if there is no outside interference.\n",
        "\n",
        "A typical LSTM is composed of three gates: a forget gate, an input gate, and an output gate.\n",
        "\n",
        "![](https://github.com/lblogan14/Python_Deep_Learning/blob/master/img/ch7/lstm_cell.PNG?raw=true)\n",
        "\n",
        "* $x_t, c_t, h_t$ are the LSTM input, cell memory state, and output (or hidden state) in moment $t$. $c_t'$ is the candidate cell state. The input $x_t$ and the previous cell output $h_{t-1}$ are connected to each gate and the candidate cell vector with sets of weights $W$ and $U$, respectively.\n",
        "* $c_t$ is the cell state in moment $t$.\n",
        "* $f_t, i_t, o_t$ are the forget, input, and output gates of the LSTM cell.\n",
        "\n",
        "The forget gate bases its decision on the output of the previous cell $h_{t-1}$ and the current input $x_t$:\n",
        "$$f_t = \\sigma(W_f x_t + U_f h_{t-1})$$\n",
        "It applies element-wise logistic functions on each element of the previous cell's vector $c_{t-1}$. An output of 0 erases a specific $c_{t-1}$ cell block completely and an output of 1 allows the information in that cell block to pass through.\n",
        "\n",
        "The input gate decides what new information is going to be added to the memory cell. It bases its decision on $h_{t-1}$ and $x_t$. An output of 0 means that no information is added to that cell block's memory.\n",
        "$$i_t = \\sigma(W_i x_t + U_i h_{t-1})$$\n",
        "\n",
        "The candidate input to be added, $c_t'$, is based on the previous output $h_{t-1}$ and the current input $x_t$:\n",
        "$$c_t' = \\tanh(W_c x_t + U_c h_{t-1})$$\n",
        "\n",
        "The forget and input gates decide the new cell state by choosing which parts of the new and the old state to include:\n",
        "$$c_t = f_t * c_{t-1} \\oplus i_t * c_t'$$\n",
        "The output gate decides what the total cell output is going to be. It takes $h_{t-1}$ and $x_t$ as inputs and outputs 0 or 1 (via the logistic function) for each block of the cell's memory. An output of 0 means that the block doesn't output any information, while an output of 1 means that the block can pass through as a cell's output.\n",
        "$$o_t = \\sigma(W_o x_t + U_o h_{t-1})$$\n",
        "The LSTM cell output:\n",
        "$$h_t = o_t * \\tanh(c_t)$$\n",
        "\n",
        "To protect from vanishing gradients, the cell state is copied identically from step to step if the forget gate is 1 and the input gate is 0. Only the\n",
        "forget gate can completely erase the cell's memory. As a result, memory can remain unchanged over a long period of time"
      ]
    },
    {
      "cell_type": "markdown",
      "metadata": {
        "id": "GPx8S5irc8iK",
        "colab_type": "text"
      },
      "source": [
        "##Gated Recurrent Units\n",
        "A GRU unit does similar or better than a LSTM but with fewer parameters and operations.\n",
        "\n",
        "![](https://github.com/lblogan14/Python_Deep_Learning/blob/master/img/ch7/gru_cell.PNG?raw=true)\n",
        "\n",
        "The GRU cell has two gates:\n",
        "* An update gate $z_t$, which is a combination of the input and forget LSTM gates. It decides what information to discard and what new information to include in its place, based on the network input $x_t$ and the previous cell hidden state $h_{t-1}$.\n",
        "$$z_t = \\sigma(W_z x_t + U_z h_{t-1})$$\n",
        "* A reset gate $r_t$, which uses the previous cell state $h_{t-1}$ and the network input $x_t$ to decide how much of the previous state to pass through:\n",
        "$$r_t = \\sigma(W_r x_t + U_r h_{t-1})$$\n",
        "\n",
        "The candidate state $h_t'$:\n",
        "$$h_t'=\\tanh(W x_t + U(r_t*h_{t-1})$$\n",
        "The GRU output $h_t$ at time $t$:\n",
        "$$h_t = (1-z_t)*h_{t-1} \\oplus z_t* h_t'$$"
      ]
    },
    {
      "cell_type": "markdown",
      "metadata": {
        "id": "tQ-rMQkBeWWO",
        "colab_type": "text"
      },
      "source": [
        "#Language Modeling\n",
        "Language modeling is the task of computing the probability of a sequence of words."
      ]
    },
    {
      "cell_type": "markdown",
      "metadata": {
        "id": "KJn-QN_rdVZY",
        "colab_type": "text"
      },
      "source": [
        "##Word-based Models\n",
        "A word-based language model defines a probability distribution over sequences of words. Given a sequence of words of length $m$, it assigns a probability $P(w_1,...,w_m)$ to the full sequence of words. These probabilities can be used to\n",
        "* To estimate the likelihood of different phrases in natural language processing applications.\n",
        "* To compute the likelihood of a given word to follow a sequence of words."
      ]
    },
    {
      "cell_type": "markdown",
      "metadata": {
        "id": "ggrYX2IHeNg4",
        "colab_type": "text"
      },
      "source": [
        "###N-grams\n",
        "The inference of the probability of a long sequence is typically infeasible. Calculating the joint probability of $P(w_1,...,w_m)$:\n",
        "$$P(w_1,...,w_m)=P(w_1)P(w_2|w_1)P(w_3|w_1,w_2)...P(w_m|w_1,...,w_{m-1})$$\n",
        "The n-grams is modeled the joint probabilities of combinations of $n$ sequential words.\n",
        "\n",
        "Given a huge corpus of text, the probabilities of the last word of each n-gram, given the previous $n-1$ words:\n",
        "* **1-gram**: $P(word) = \\frac{count(word)}{\\mbox{total number of words in corpus}}$\n",
        "* **2-gram**: $P(w_i|w_{i-1})=\\frac{count(w_{i-1},w_i)}{count(w_{i-1})}$\n",
        "* **N-gram**: $P(w_{n+i}|w_n,...,w_{n+i-1})=\\frac{count(w_n,...,w_{n+i-1},w_{n+i})}{count(w_n,...,w_{n+i-1})}$\n",
        "\n",
        "The $i$th word is only dependent on the previous $n-1$ words."
      ]
    },
    {
      "cell_type": "markdown",
      "metadata": {
        "id": "XixoN80HiSy_",
        "colab_type": "text"
      },
      "source": [
        "###Neural language models\n",
        "One way to overcome the curse of dimensionality is by learning a lower dimensional, distributed representation of the words. This distributed representation is created by learning an embedding function that transforms the space of words into a lower dimensional space of word embeddings, as follows:\n",
        "\n",
        "![](https://github.com/lblogan14/Python_Deep_Learning/blob/master/img/ch7/embedding.PNG?raw=true)\n",
        "\n",
        "Words from the vocabulary with size $V$ are transformed into one-hot encoding vectors of size $V$ (each word is encoded uniquely). Then, the embedding function transforms this $V$-dimensional space into a distributed representation of size $D$.\n",
        "\n",
        "The idea is that the embedding function learns semantic information about the words. It associates each word in the vocabulary with a continuous-valued vector representation, that is, the word embedding. Each word corresponds to a point in this embedding space, and different dimensions correspond to the grammatical or semantic properties of these\n",
        "words."
      ]
    },
    {
      "cell_type": "markdown",
      "metadata": {
        "id": "yzXVF-E7pEJD",
        "colab_type": "text"
      },
      "source": [
        "####Neural probabilistic language model\n",
        "Given a sequence of $n-1$ words $(w_{t-n+1},...,w_{t-1})$, the fully-connected network tries to output the probability distribution of the next word $w_t$.\n",
        "\n",
        "![](https://github.com/lblogan14/Python_Deep_Learning/blob/master/img/ch7/neural_prob_lang_model.PNG?raw=true)\n",
        "\n",
        "1. The embedding layer takes the one-hot representation of the word $w_i$ and\n",
        "transforms it into the word's embedding vector by multiplying it with the\n",
        "embedding matrix $C$. The embedding matrix $C$ is shared over the words, so all words use the same embedding function. $C$ is represented by a $V*D$ matrix, where $V$ is the size of the vocabulary and $D$ is the size of the embedding.\n",
        "2. The resulting embeddings are concatenated and serve as an input to the hidden layer, which uses `tanh` activation. The output of the hidden layer is thus $z=\\tanh\\left(H\\cdot (concat(C(w_{t-n+1}),...,C(w_{t-1})) + d)\\right)$, where $H$ is the embedding-to-hidden layer weights and $d$ are the hidden biases.\n",
        "3. The output is obtained with the weights $U$, bias $b$, and softmax activation, which maps the hidden layer to the word space probability distribution: $y=softmax(z*U+b)$.\n",
        "\n",
        "This model simultaneously learns an embedding of all the words in the\n",
        "vocabulary (embedding layer) and a model of the probability function for sequences of\n",
        "words (network output). It is able to generalize this probability function to sequences of\n",
        "words that were not seen during training."
      ]
    },
    {
      "cell_type": "markdown",
      "metadata": {
        "id": "PQ2k2KElrV-X",
        "colab_type": "text"
      },
      "source": [
        "####word2vec\n",
        "The embedding vectors are represented by the input-to-hidden weights of the network.\n",
        "They are $V * D$ shaped matrices, where $V$ is the size of the vocabulary and $D$ is the length of\n",
        "the embedding vector (which is the same as the number of neurons in the hidden layer).\n",
        "\n",
        "There are two approaches:\n",
        "* **Continuous bag of words (CBOW)**: the neural network is trained to\n",
        "predict which word fits in a sequence of words, where a single word has been\n",
        "intentionally removed, shown left in the following figure. For example, given the sqeuence \"The quick _____ fox\n",
        "jumps\", the network will predict \"brown\". But the network takes only a single word as input. Therefore, this sentence is transformed into multiple training (input, target) pairs.\n",
        "* **Skip-gram**: Given an input word, it predicts\n",
        "which words surround it, shown right in the following figure. For example, the word \"brown\" will predict the\n",
        "words \"The quick fox jumps\".\n",
        "\n",
        "![](https://github.com/lblogan14/Python_Deep_Learning/blob/master/img/ch7/word2vec.PNG?raw=true)"
      ]
    },
    {
      "cell_type": "markdown",
      "metadata": {
        "id": "Zn7wdjEes5rL",
        "colab_type": "text"
      },
      "source": [
        "##Character-based Models for Generating New Text\n",
        "In most cases, language modeling is performed at the word level, where the distribution is over a fixed vocabulary of $|V|$ words. The character-level language models model the distribution over sequences of characters instead of words, thus allowing to compute probabilities over a much smaller vocabulary. However, by modeling the sequence of characters instead of words, much longer sequences is modeled to capture the same information over time. These long-term dependencies can be captured with LSTM language model.\n",
        "\n",
        "Because the full text is too long to train a network with **backpropagation through time (BPTT)**, a batched variant called truncated BPTT is used. The training data is divided into batches of fixed sequences length and the network is trained batch by batch."
      ]
    },
    {
      "cell_type": "markdown",
      "metadata": {
        "id": "X1KbR53gudEu",
        "colab_type": "text"
      },
      "source": [
        "###Preprocessing and Reading data"
      ]
    },
    {
      "cell_type": "code",
      "metadata": {
        "id": "yWsb7FDUu1CL",
        "colab_type": "code",
        "colab": {}
      },
      "source": [
        "'''Process text file for language model training'''\n",
        "from __future__ import print_function, division\n",
        "\n",
        "import codecs\n",
        "import re"
      ],
      "execution_count": 0,
      "outputs": []
    },
    {
      "cell_type": "code",
      "metadata": {
        "id": "LdlwuWg2u82X",
        "colab_type": "code",
        "colab": {}
      },
      "source": [
        "filepath = 'war_and_peace.txt' # in\n",
        "out_file = 'wap.txt' # out"
      ],
      "execution_count": 0,
      "outputs": []
    },
    {
      "cell_type": "code",
      "metadata": {
        "id": "ec33HlRGvDxN",
        "colab_type": "code",
        "colab": {}
      },
      "source": [
        "# Regular Expression used to clean up the text\n",
        "NEW_LINE_IN_PARAGRAPH_REGEX = re.compile(r'(\\S)\\n(\\S)')\n",
        "MULTIPLE_NEWLINES_REGEX = re.compile(r'(\\n)(\\n)+')"
      ],
      "execution_count": 0,
      "outputs": []
    },
    {
      "cell_type": "code",
      "metadata": {
        "id": "tVDjj_QhvUEh",
        "colab_type": "code",
        "colab": {}
      },
      "source": [
        "# Read text as string\n",
        "with codecs.open(filepath, encoding='utf-8', mode='r') as f_input:\n",
        "    book_str = f_input.read()"
      ],
      "execution_count": 0,
      "outputs": []
    },
    {
      "cell_type": "code",
      "metadata": {
        "id": "5bd7PLfhvdc3",
        "colab_type": "code",
        "colab": {}
      },
      "source": [
        "# Cleanup\n",
        "book_str = NEW_LINE_IN_PARAGRAPH_REGEX.sub('\\g<1> \\g<2>', book_str)\n",
        "book_str = MULTIPLE_NEWLINES_REGEX.sub('\\n\\n', book_str)"
      ],
      "execution_count": 0,
      "outputs": []
    },
    {
      "cell_type": "code",
      "metadata": {
        "id": "LmDQSSv9wPp9",
        "colab_type": "code",
        "colab": {}
      },
      "source": [
        "# Write processed text to file\n",
        "with codecs.open(out_file, encoding='utf-8', mode='w') as f_output:\n",
        "    f_output.write(book_str)"
      ],
      "execution_count": 0,
      "outputs": []
    },
    {
      "cell_type": "markdown",
      "metadata": {
        "id": "08p_-EBzw5c2",
        "colab_type": "text"
      },
      "source": [
        "To feed the data into the network, the data needs to be convertedf into a numerical format. Each character will be associated with an integer."
      ]
    },
    {
      "cell_type": "code",
      "metadata": {
        "id": "bMndCjTMxCR4",
        "colab_type": "code",
        "colab": {}
      },
      "source": [
        "from __future__ import print_function, division\n",
        "import codecs\n",
        "\n",
        "import numpy as np\n",
        "from six.moves import range"
      ],
      "execution_count": 0,
      "outputs": []
    },
    {
      "cell_type": "code",
      "metadata": {
        "id": "WDLRDrdfxJZP",
        "colab_type": "code",
        "colab": {}
      },
      "source": [
        "class DataReader(object):\n",
        "    \"\"\"Data reader used for training language model.\"\"\"\n",
        "\n",
        "    def __init__(self, filepath, batch_length, batch_size):\n",
        "        self.batch_length = batch_length\n",
        "        self.batch_size = batch_size\n",
        "        # Read data into string\n",
        "        with codecs.open(filepath, encoding='utf-8', mode='r') as f:\n",
        "            self.data_str = f.read()\n",
        "        self.data_length = len(self.data_str)\n",
        "        print('data_length: ', self.data_length)\n",
        "        # Create a list of characters, indices are class indices for softmax\n",
        "        char_set = set()\n",
        "        for ch in self.data_str:\n",
        "            char_set.add(ch)\n",
        "        self.char_list = sorted(list(char_set))\n",
        "        print('char_list: ', len(self.char_list), self.char_list)\n",
        "        # Create reverse mapping to look up the index based on the character\n",
        "        self.char_dict = {val: idx for idx, val in enumerate(self.char_list)}\n",
        "        print('char_dict: ', self.char_dict)\n",
        "        # Initalise random start indices\n",
        "        self.reset_indices()\n",
        "\n",
        "    def reset_indices(self):\n",
        "        self.start_idxs = np.random.random_integers(\n",
        "            0, self.data_length, self.batch_size)\n",
        "\n",
        "    def get_sample(self, start_idx, length):\n",
        "        # Get a sample and wrap around the data string\n",
        "        return [self.char_dict[self.data_str[i % self.data_length]]\n",
        "                for i in range(start_idx, start_idx + length)]\n",
        "\n",
        "    def get_input_target_sample(self, start_idx):\n",
        "        sample = self.get_sample(start_idx, self.batch_length + 1)\n",
        "        inpt = sample[0:self.batch_length]\n",
        "        trgt = sample[1:self.batch_length + 1]\n",
        "        return inpt, trgt\n",
        "\n",
        "    def get_batch(self, start_idxs):\n",
        "        input_batch = np.zeros((self.batch_size, self.batch_length),\n",
        "                               dtype=np.int32)\n",
        "        target_batch = np.zeros((self.batch_size, self.batch_length),\n",
        "                                dtype=np.int32)\n",
        "        for i, start_idx in enumerate(start_idxs):\n",
        "            inpt, trgt = self.get_input_target_sample(start_idx)\n",
        "            input_batch[i, :] = inpt\n",
        "            target_batch[i, :] = trgt\n",
        "        return input_batch, target_batch\n",
        "\n",
        "    def __iter__(self):\n",
        "        while True:\n",
        "            input_batch, target_batch = self.get_batch(self.start_idxs)\n",
        "            self.start_idxs = (\n",
        "                                      self.start_idxs + self.batch_length) % self.data_length\n",
        "            yield input_batch, target_batch"
      ],
      "execution_count": 0,
      "outputs": []
    },
    {
      "cell_type": "code",
      "metadata": {
        "id": "Qxp9_pbrxSvj",
        "colab_type": "code",
        "colab": {}
      },
      "source": [
        "filepath = './wap.txt'\n",
        "batch_length = 10\n",
        "batch_size = 2\n",
        "reader = DataReader(filepath, batch_length, batch_size)\n",
        "s = 'As in the question of astronomy then, so in the question of history now,'\n",
        "print([reader.char_dict[c] for c in s])"
      ],
      "execution_count": 0,
      "outputs": []
    },
    {
      "cell_type": "markdown",
      "metadata": {
        "id": "zUe7SuplxaAU",
        "colab_type": "text"
      },
      "source": [
        "###LSTM Network\n",
        "![](https://github.com/lblogan14/Python_Deep_Learning/blob/master/img/ch7/lstm_char_lang_model.PNG?raw=true)"
      ]
    },
    {
      "cell_type": "code",
      "metadata": {
        "id": "q5K_1H9Ux2Hl",
        "colab_type": "code",
        "colab": {}
      },
      "source": [
        "# -*- coding: utf-8 -*-\n",
        "from __future__ import print_function, division\n",
        "\n",
        "import time\n",
        "\n",
        "import data_reader\n",
        "import numpy as np\n",
        "import tensorflow as tf"
      ],
      "execution_count": 0,
      "outputs": []
    },
    {
      "cell_type": "code",
      "metadata": {
        "id": "pT7ANCyvx4kc",
        "colab_type": "code",
        "colab": {}
      },
      "source": [
        "class Model(object):\n",
        "    \"\"\"RNN language model.\"\"\"\n",
        "\n",
        "    def __init__(self, batch_size, sequence_length, lstm_sizes, dropout,\n",
        "                 labels, save_path):\n",
        "        self.batch_size = batch_size\n",
        "        self.sequence_length = sequence_length\n",
        "        self.lstm_sizes = lstm_sizes\n",
        "        self.labels = labels\n",
        "        self.label_map = {val: idx for idx, val in enumerate(labels)}\n",
        "        self.number_of_characters = len(labels)\n",
        "        self.save_path = save_path\n",
        "        self.dropout = dropout\n",
        "\n",
        "    def init_graph(self):\n",
        "        # Variable sequence length\n",
        "        self.inputs = tf.placeholder(\n",
        "            tf.int32, [self.batch_size, self.sequence_length])\n",
        "        self.targets = tf.placeholder(\n",
        "            tf.int32, [self.batch_size, self.sequence_length])\n",
        "        self.init_architecture()\n",
        "        self.saver = tf.train.Saver(tf.trainable_variables())\n",
        "\n",
        "    def init_architecture(self):\n",
        "        # Define a multilayer LSTM cell\n",
        "        self.one_hot_inputs = tf.one_hot(\n",
        "            self.inputs, depth=self.number_of_characters)\n",
        "        cell_list = [tf.nn.rnn_cell.LSTMCell(lstm_size) for lstm_size in self.lstm_sizes]\n",
        "        self.multi_cell_lstm = tf.nn.rnn_cell.MultiRNNCell(cell_list)\n",
        "        # Initial state of the LSTM memory.\n",
        "        # Keep state in graph memory to use between batches\n",
        "        self.initial_state = self.multi_cell_lstm.zero_state(\n",
        "            self.batch_size, tf.float32)\n",
        "        # Convert to variables so that the state can be stored between batches\n",
        "        # Note that LSTM states is a tuple of tensors, this structure has to be\n",
        "        # re-created in order to use as LSTM state.\n",
        "        self.state_variables = tf.contrib.framework.nest.pack_sequence_as(\n",
        "            self.initial_state,\n",
        "            [tf.Variable(var, trainable=False)\n",
        "             for var in tf.contrib.framework.nest.flatten(self.initial_state)])\n",
        "        # Define the rnn through time\n",
        "        lstm_output, final_state = tf.nn.dynamic_rnn(\n",
        "            cell=self.multi_cell_lstm, inputs=self.one_hot_inputs,\n",
        "            initial_state=self.state_variables)\n",
        "        # Force the initial state to be set to the new state for the next batch\n",
        "        # before returning the output\n",
        "        store_states = [\n",
        "            state_variable.assign(new_state)\n",
        "            for (state_variable, new_state) in zip(\n",
        "                tf.contrib.framework.nest.flatten(self.state_variables),\n",
        "                tf.contrib.framework.nest.flatten(final_state))]\n",
        "        with tf.control_dependencies(store_states):\n",
        "            lstm_output = tf.identity(lstm_output)\n",
        "        # Reshape so that we can apply the linear transformation to all outputs\n",
        "        output_flat = tf.reshape(lstm_output, (-1, self.lstm_sizes[-1]))\n",
        "        # Define output layer\n",
        "        self.logit_weights = tf.Variable(\n",
        "            tf.truncated_normal(\n",
        "                (self.lstm_sizes[-1], self.number_of_characters), stddev=0.01),\n",
        "            name='logit_weights')\n",
        "        self.logit_bias = tf.Variable(\n",
        "            tf.zeros((self.number_of_characters)), name='logit_bias')\n",
        "        # Apply last layer transformation\n",
        "        self.logits_flat = tf.matmul(\n",
        "            output_flat, self.logit_weights) + self.logit_bias\n",
        "        probabilities_flat = tf.nn.softmax(self.logits_flat)\n",
        "        self.probabilities = tf.reshape(\n",
        "            probabilities_flat,\n",
        "            (self.batch_size, -1, self.number_of_characters))\n",
        "\n",
        "    def init_train_op(self, optimizer):\n",
        "        # Flatten the targets to be compatible with the flattened logits\n",
        "        targets_flat = tf.reshape(self.targets, (-1,))\n",
        "        # Get the loss over all outputs\n",
        "        loss = tf.nn.sparse_softmax_cross_entropy_with_logits(\n",
        "            logits=self.logits_flat, labels=targets_flat, name='x_entropy')\n",
        "        self.loss = tf.reduce_mean(loss)\n",
        "        trainable_variables = tf.trainable_variables()\n",
        "        gradients = tf.gradients(loss, trainable_variables)\n",
        "        gradients, _ = tf.clip_by_global_norm(gradients, 5)\n",
        "        self.train_op = optimizer.apply_gradients(zip(gradients, trainable_variables))\n",
        "\n",
        "    def sample(self, session, prime_string, sample_length):\n",
        "        self.reset_state(session)\n",
        "        # Prime state\n",
        "        print('prime_string: ', prime_string)\n",
        "        for character in prime_string:\n",
        "            character_idx = self.label_map[character]\n",
        "            out = session.run(\n",
        "                self.probabilities,\n",
        "                feed_dict={self.inputs: np.asarray([[character_idx]])})\n",
        "        output_sample = prime_string\n",
        "        print('start sampling')\n",
        "        # Sample for sample_length steps\n",
        "        for _ in range(sample_length):\n",
        "            sample_label = np.random.choice(\n",
        "                self.labels, size=(1), p=out[0, 0])[0]\n",
        "            output_sample += sample_label\n",
        "            sample_idx = self.label_map[sample_label]\n",
        "            out = session.run(\n",
        "                self.probabilities,\n",
        "                feed_dict={self.inputs: np.asarray([[sample_idx]])})\n",
        "\n",
        "        return output_sample\n",
        "\n",
        "    def reset_state(self, session):\n",
        "        for state in tf.contrib.framework.nest.flatten(self.state_variables):\n",
        "            session.run(state.initializer)\n",
        "\n",
        "    def save(self, sess):\n",
        "        self.saver.save(sess, self.save_path)\n",
        "\n",
        "    def restore(self, sess):\n",
        "        self.saver.restore(sess, self.save_path)"
      ],
      "execution_count": 0,
      "outputs": []
    },
    {
      "cell_type": "markdown",
      "metadata": {
        "id": "qL21d2z8yaBy",
        "colab_type": "text"
      },
      "source": [
        "###Training and Sampling"
      ]
    },
    {
      "cell_type": "code",
      "metadata": {
        "id": "nUsWNe3LyBQj",
        "colab_type": "code",
        "colab": {}
      },
      "source": [
        "def train_and_sample(minibatch_iterations, restore):\n",
        "    tf.reset_default_graph()\n",
        "    batch_size = 64\n",
        "    lstm_sizes = [512, 512]\n",
        "    batch_len = 100\n",
        "    learning_rate = 2e-3\n",
        "\n",
        "    filepath = './wap.txt'\n",
        "\n",
        "    data_feed = data_reader.DataReader(\n",
        "        filepath, batch_len, batch_size)\n",
        "    labels = data_feed.char_list\n",
        "    print('labels: ', labels)\n",
        "\n",
        "    save_path = './model.tf'\n",
        "    model = Model(\n",
        "        batch_size, batch_len, lstm_sizes, 0.8, labels,\n",
        "        save_path)\n",
        "    model.init_graph()\n",
        "    optimizer = tf.train.AdamOptimizer(learning_rate)\n",
        "    model.init_train_op(optimizer)\n",
        "\n",
        "    init_op = tf.initialize_all_variables()\n",
        "    with tf.Session() as sess:\n",
        "        sess.run(init_op)\n",
        "        if restore:\n",
        "            print('Restoring model')\n",
        "            model.restore(sess)\n",
        "        model.reset_state(sess)\n",
        "        start_time = time.time()\n",
        "        for i in range(minibatch_iterations):\n",
        "            input_batch, target_batch = next(iter(data_feed))\n",
        "            loss, _ = sess.run(\n",
        "                [model.loss, model.train_op],\n",
        "                feed_dict={model.inputs: input_batch, model.targets: target_batch})\n",
        "            if i % 50 == 0 and i != 0:\n",
        "                print('i: ', i)\n",
        "                duration = time.time() - start_time\n",
        "                print('loss: {} ({} sec.)'.format(loss, duration))\n",
        "                start_time = time.time()\n",
        "            if i % 1000 == 0 and i != 0:\n",
        "                model.save(sess)\n",
        "            if i % 100 == 0 and i != 0:\n",
        "                print('Reset initial state')\n",
        "                model.reset_state(sess)\n",
        "            if i % 1000 == 0 and i != 0:\n",
        "                print('Reset minibatch feeder')\n",
        "                data_feed.reset_indices()\n",
        "        model.save(sess)\n",
        "\n",
        "    print('\\n sampling after {} iterations'.format(minibatch_iterations))\n",
        "    tf.reset_default_graph()\n",
        "    model = Model(\n",
        "        1, None, lstm_sizes, 1.0, labels, save_path)\n",
        "    model.init_graph()\n",
        "    init_op = tf.initialize_all_variables()\n",
        "    with tf.Session() as sess:\n",
        "        sess.run(init_op)\n",
        "        model.restore(sess)\n",
        "        print('\\nSample 1:')\n",
        "        sample = model.sample(\n",
        "            sess, prime_string=u'\\n\\nThis feeling was ', sample_length=500)\n",
        "        print(u'sample: \\n{}'.format(sample))\n",
        "        print('\\nSample 2:')\n",
        "        sample = model.sample(\n",
        "            sess, prime_string=u'She was born in the year ', sample_length=500)\n",
        "        print(u'sample: \\n{}'.format(sample))\n",
        "        print('\\nSample 3:')\n",
        "        sample = model.sample(\n",
        "            sess, prime_string=u'The meaning of this all is ',\n",
        "            sample_length=500)\n",
        "        print(u'sample: \\n{}'.format(sample))\n",
        "        print('\\nSample 4:')\n",
        "        sample = model.sample(\n",
        "            sess,\n",
        "            prime_string=u'In the midst of a conversation on political matters Anna Pávlovna burst out:,',\n",
        "            sample_length=500)\n",
        "        print(u'sample: \\n{}'.format(sample))\n",
        "        print('\\nSample 5:')\n",
        "        sample = model.sample(\n",
        "            sess, prime_string=u'\\n\\nCHAPTER X\\n\\n',\n",
        "            sample_length=500)\n",
        "        print(u'sample: \\n{}'.format(sample))\n",
        "        print('\\nSample 5:')\n",
        "        sample = model.sample(\n",
        "            sess, prime_string=u'\"If only you knew,\"',\n",
        "            sample_length=500)\n",
        "        print(u'sample: \\n{}'.format(sample))"
      ],
      "execution_count": 0,
      "outputs": []
    },
    {
      "cell_type": "code",
      "metadata": {
        "id": "rzj58D2dyGlc",
        "colab_type": "code",
        "colab": {}
      },
      "source": [
        "total_iterations = 500\n",
        "print('\\n\\n\\nTrain for {}'.format(500))\n",
        "print('Total iters: {}'.format(total_iterations))\n",
        "train_and_sample(500, restore=False)\n",
        "for i in [500, 1000, 3000, 5000, 10000, 30000, 50000, 100000, 300000]:\n",
        "    total_iterations += i\n",
        "    print('\\n\\n\\nTrain for {}'.format(i))\n",
        "    print('Total iters: {}'.format(total_iterations))\n",
        "    train_and_sample(i, restore=True)"
      ],
      "execution_count": 0,
      "outputs": []
    }
  ]
}
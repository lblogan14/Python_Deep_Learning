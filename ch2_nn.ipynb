{
  "nbformat": 4,
  "nbformat_minor": 0,
  "metadata": {
    "colab": {
      "name": "ch2_nn.ipynb",
      "version": "0.3.2",
      "provenance": [],
      "collapsed_sections": [],
      "include_colab_link": true
    },
    "kernelspec": {
      "name": "python3",
      "display_name": "Python 3"
    }
  },
  "cells": [
    {
      "cell_type": "markdown",
      "metadata": {
        "id": "view-in-github",
        "colab_type": "text"
      },
      "source": [
        "<a href=\"https://colab.research.google.com/github/lblogan14/Python_Deep_Learning/blob/master/ch2_nn.ipynb\" target=\"_parent\"><img src=\"https://colab.research.google.com/assets/colab-badge.svg\" alt=\"Open In Colab\"/></a>"
      ]
    },
    {
      "cell_type": "markdown",
      "metadata": {
        "id": "wp88HYuZe0cP",
        "colab_type": "text"
      },
      "source": [
        "#Example\n",
        "To implement a simple network with two hidden units and logistic function:"
      ]
    },
    {
      "cell_type": "code",
      "metadata": {
        "id": "CclgEkE3fGPi",
        "colab_type": "code",
        "colab": {}
      },
      "source": [
        "import matplotlib.pyplot as plt\n",
        "import numpy"
      ],
      "execution_count": 0,
      "outputs": []
    },
    {
      "cell_type": "code",
      "metadata": {
        "id": "WgMXFKLWfc2T",
        "colab_type": "code",
        "colab": {}
      },
      "source": [
        "weight_value = 1000\n",
        "\n",
        "# modify to change where the step function starts\n",
        "bias_value_1 = 5000\n",
        "\n",
        "# modify to change where the step function ends\n",
        "bias_value_2 = -5000"
      ],
      "execution_count": 0,
      "outputs": []
    },
    {
      "cell_type": "code",
      "metadata": {
        "id": "xORIE7pzfo7e",
        "colab_type": "code",
        "colab": {
          "base_uri": "https://localhost:8080/",
          "height": 376
        },
        "outputId": "5480debe-acf1-4652-ee35-209930deae97"
      },
      "source": [
        "plt.axis([-10, 10, -1, 10])\n",
        "\n",
        "print('The step function starts at {0} and ends at {1}'.format(-bias_value_1/weight_value,\n",
        "                                                               -bias_value_2/weight_value))\n",
        "\n",
        "inputs = numpy.arange(-10, 10, 0.01)\n",
        "outputs = list()\n",
        "\n",
        "# iterate over a range of inputs\n",
        "for x in inputs:\n",
        "  y1 = 1.0 / (1.0 + numpy.exp(-weight_value * x - bias_value_1))\n",
        "  y2 = 1.0 / (1.0 + numpy.exp(-weight_value * x - bias_value_2))\n",
        "  \n",
        "  # modify to change the height of the step function\n",
        "  w = 7\n",
        "  \n",
        "  # network output\n",
        "  y = y1 * w - y2 * w\n",
        "  \n",
        "  outputs.append(y)\n",
        "  \n",
        "plt.plot(inputs, outputs, lw=2, color='black')\n",
        "plt.show()"
      ],
      "execution_count": 3,
      "outputs": [
        {
          "output_type": "stream",
          "text": [
            "The step function starts at -5.0 and ends at 5.0\n"
          ],
          "name": "stdout"
        },
        {
          "output_type": "stream",
          "text": [
            "/usr/local/lib/python3.6/dist-packages/ipykernel_launcher.py:11: RuntimeWarning: overflow encountered in exp\n",
            "  # This is added back by InteractiveShellApp.init_path()\n",
            "/usr/local/lib/python3.6/dist-packages/ipykernel_launcher.py:12: RuntimeWarning: overflow encountered in exp\n",
            "  if sys.path[0] == '':\n"
          ],
          "name": "stderr"
        },
        {
          "output_type": "display_data",
          "data": {
            "image/png": "[encoded data removed]",
            "text/plain": [
              "<Figure size 432x288 with 1 Axes>"
            ]
          },
          "metadata": {
            "tags": []
          }
        }
      ]
    },
    {
      "cell_type": "markdown",
      "metadata": {
        "id": "VLGx-1wQgtPD",
        "colab_type": "text"
      },
      "source": [
        "#Nerual Network for the XOR Function\n",
        "Create a simple network with one hidden layer solving the XOR function, which is linearly inseparable."
      ]
    },
    {
      "cell_type": "code",
      "metadata": {
        "id": "SjPdsHAkhVIR",
        "colab_type": "code",
        "colab": {}
      },
      "source": [
        "import matplotlib.pyplot as plt\n",
        "import numpy\n",
        "from matplotlib.colors import ListedColormap"
      ],
      "execution_count": 0,
      "outputs": []
    },
    {
      "cell_type": "markdown",
      "metadata": {
        "id": "B8bAnKq4hi1I",
        "colab_type": "text"
      },
      "source": [
        "1. Define the activation function and its derivative (here using `tanh(x)`)"
      ]
    },
    {
      "cell_type": "code",
      "metadata": {
        "id": "pyaC71QrhqJh",
        "colab_type": "code",
        "colab": {}
      },
      "source": [
        "def tanh(x):\n",
        "  return (1.0 - numpy.exp(-2*x)) / (1.0 + numpy.exp(-2*x))\n",
        "\n",
        "def tanh_derivative(x):\n",
        "  return (1 + tanh(x)) * (1 - tanh(x))"
      ],
      "execution_count": 0,
      "outputs": []
    },
    {
      "cell_type": "markdown",
      "metadata": {
        "id": "L1IE9Y2wiO8k",
        "colab_type": "text"
      },
      "source": [
        "2. Define the `NeuralNetwork` class"
      ]
    },
    {
      "cell_type": "code",
      "metadata": {
        "id": "QyZeISohjGZ0",
        "colab_type": "code",
        "colab": {
          "base_uri": "https://localhost:8080/",
          "height": 1000
        },
        "outputId": "f2932931-8571-436b-a2d5-5509f5adba29"
      },
      "source": [
        "class NeuralNetwork:\n",
        "  \n",
        "  # net_arch consists of a list of integers, \n",
        "  # indicating the number of neurons in each layer\n",
        "  \n",
        "  def __init__(self, net_arch):\n",
        "    self.activation_func = tanh\n",
        "    self.activation_derivative = tanh_derivative\n",
        "    self.layers = len(net_arch)\n",
        "    self.steps_per_epoch = 1000\n",
        "    self.net_arch = net_arch\n",
        "    \n",
        "    # initialize the weights with random values in the range (-1,1)\n",
        "    self.weights = []\n",
        "    for layer in range(len(net_arch) - 1):\n",
        "      w = 2 * numpy.random.rand(net_arch[layer] + 1, net_arch[layer + 1]) - 1\n",
        "      self.weights.append(w)\n",
        "      \n",
        "  def fit(self, data, labels, learning_rate=0.1, epochs=10):\n",
        "    '''\n",
        "    :param data = data is the set of all possible pairs of booleans\n",
        "                  True or False indicated by the integers 1 or 0\n",
        "                  labels is the result of the logical operation XOR\n",
        "                  on each of those input pairs\n",
        "    :param labels = array of 0/1 for each datum\n",
        "    '''\n",
        "    \n",
        "    # add bias units to the input layer\n",
        "    ones = numpy.ones((1, data.shape[0]))\n",
        "    Z = numpy.concatenate((ones.T, data), axis=1)\n",
        "    training = epochs * self.steps_per_epoch\n",
        "    for k in range(training):\n",
        "      if k % self.steps_per_epoch == 0:\n",
        "        print('epochs: {}'.format(k / self.steps_per_epoch))\n",
        "        for s in data:\n",
        "          print(s, self.predict(s))\n",
        "          \n",
        "      sample = numpy.random.randint(data.shape[0])\n",
        "      y = [Z[sample]]\n",
        "      \n",
        "      for i in range(len(self.weights) - 1):\n",
        "        activation = numpy.dot(y[i], self.weights[i])\n",
        "        activation_f = self.activation_func(activation)\n",
        "        # add the bias for the next layer\n",
        "        activation_f = numpy.concatenate((numpy.ones(1), numpy.array(activation_f)))\n",
        "        y.append(activation_f)\n",
        "        \n",
        "      # last layer\n",
        "      activation = numpy.dot(y[-1], self.weights[-1])\n",
        "      activation_f = self.activation_func(activation)\n",
        "      y.append(activation_f)\n",
        "      \n",
        "      # error for the output layer\n",
        "      error = labels[sample] - y[-1]\n",
        "      delta_vec = [error * self.activation_derivative(y[-1])]\n",
        "      \n",
        "      # accumulate errors backwards\n",
        "      for i in range(self.layers - 2, 0, -1):\n",
        "        error = delta_vec[-1].dot(self.weights[i][1:].T)\n",
        "        error = error * self.activation_derivative(y[i][1:])\n",
        "        delta_vec.append(error)\n",
        "        \n",
        "      # reverse the order\n",
        "      delta_vec.reverse()\n",
        "      \n",
        "      #backpropagation\n",
        "      '''\n",
        "      1. multiply its output delta and input activation to get the gradient of weight\n",
        "      2. substract a ratio (percentage) of the gradient from the weight\n",
        "      '''\n",
        "      for i in range(len(self.weights)):\n",
        "        layer = y[i].reshape(1, self.net_arch[i] + 1)\n",
        "        \n",
        "        delta = delta_vec[i].reshape(1, self.net_arch[i + 1])\n",
        "        self.weights[i] += learning_rate * layer.T.dot(delta)\n",
        "        \n",
        "  def predict(self, x):\n",
        "    val = numpy.concatenate((numpy.ones(1).T, numpy.array(x)))\n",
        "    for i in range(0, len(self.weights)):\n",
        "      val = self.activation_func(numpy.dot(val, self.weights[i]))\n",
        "      val = numpy.concatenate((numpy.ones(1).T, numpy.array(val)))\n",
        "      \n",
        "    return val[1]\n",
        "  \n",
        "  def plot_decision_regions(self, X, y, points=200):\n",
        "    markers = ('o', '^')\n",
        "    colors = ('red', 'blue')\n",
        "    cmap = ListedColormap(colors)\n",
        "    \n",
        "    x1_min, x1_max = X[:, 0].min() - 1, X[:, 0].max() + 1\n",
        "    x2_min, x2_max = X[:, 1].min() - 1, X[:, 1].max() + 1\n",
        "    \n",
        "    resolution = max(x1_max - x1_min, x2_max - x2_min) / float(points)\n",
        "    \n",
        "    xx1, xx2 = numpy.meshgrid(numpy.arange(x1_min, x1_max, resolution),\n",
        "                              numpy.arange(x2_min, x2_max, resolution))\n",
        "    \n",
        "    input = numpy.array([xx1.ravel(), xx2.ravel()]).T\n",
        "    Z = numpy.empty(0)\n",
        "    for i in range(input.shape[0]):\n",
        "      val = self.predict(numpy.array(input[i]))\n",
        "      if val < 0.5:\n",
        "        val = 0\n",
        "      if val >= 0.5:\n",
        "        val = 1\n",
        "      Z = numpy.append(Z, val)\n",
        "      \n",
        "    Z = Z.reshape(xx1.shape)\n",
        "    \n",
        "    plt.pcolormesh(xx1, xx2, Z, cmap=cmap)\n",
        "    plt.xlim(xx1.min(), xx1.max())\n",
        "    plt.ylim(xx2.min(), xx2.max())\n",
        "    \n",
        "    # plot all samples\n",
        "    classes = ['False', 'True']\n",
        "    \n",
        "    for idx, cl in enumerate(numpy.unique(y)):\n",
        "      plt.scatter(x = X[y==cl, 0],\n",
        "                  y = X[y==cl, 1],\n",
        "                  alpha = 1.0,\n",
        "                  c = colors[idx],\n",
        "                  edgecolors = 'black',\n",
        "                  marker = markers[idx],\n",
        "                  s = 80,\n",
        "                  label = classes[idx])\n",
        "      \n",
        "    plt.xlabel('x-axis')\n",
        "    plt.ylabel('y-axis')\n",
        "    plt.legend(loc='upper left')\n",
        "    plt.show()\n",
        "    \n",
        "if __name__ == '__main__':\n",
        "  numpy.random.seed(0)\n",
        "  \n",
        "  # initialize the NeuralNetwork with 2 inputs, 2 hidden, and 1 output neurons\n",
        "  nn = NeuralNetwork([2, 2, 1])\n",
        "  \n",
        "  X = numpy.array([[0, 0],\n",
        "                   [0, 1],\n",
        "                   [1, 0],\n",
        "                   [1, 1]])\n",
        "  y = numpy.array([0, 1, 1, 0])\n",
        "  \n",
        "  nn.fit(X, y, epochs=10)\n",
        "  \n",
        "  print('Final prediction')\n",
        "  for s in X:\n",
        "    print(s, nn.predict(s))\n",
        "    \n",
        "  nn.plot_decision_regions(X, y)"
      ],
      "execution_count": 37,
      "outputs": [
        {
          "output_type": "stream",
          "text": [
            "epochs: 0.0\n",
            "[0 0] 0.31634987228520156\n",
            "[0 1] 0.38455314510086014\n",
            "[1 0] 0.49960366414001517\n",
            "[1 1] 0.5470092417007291\n",
            "epochs: 1.0\n",
            "[0 0] 0.10110562119575021\n",
            "[0 1] 0.4983062530300437\n",
            "[1 0] 0.5483740117095983\n",
            "[1 1] 0.6358128781126651\n",
            "epochs: 2.0\n",
            "[0 0] 0.07164948329787552\n",
            "[0 1] 0.8610758132814952\n",
            "[1 0] 0.8502850626450229\n",
            "[1 1] 0.07158530421971639\n",
            "epochs: 3.0\n",
            "[0 0] 0.01758656789925367\n",
            "[0 1] 0.966663773401989\n",
            "[1 0] 0.9651222166853127\n",
            "[1 1] 0.011468668342141863\n",
            "epochs: 4.0\n",
            "[0 0] -0.0017118993569207345\n",
            "[0 1] 0.9815292663780985\n",
            "[1 0] 0.9828812324283913\n",
            "[1 1] -0.0003037091869647862\n",
            "epochs: 5.0\n",
            "[0 0] 0.0026985374081322524\n",
            "[0 1] 0.9885083594808965\n",
            "[1 0] 0.9891298042443863\n",
            "[1 1] 0.015552778145753128\n",
            "epochs: 6.0\n",
            "[0 0] 0.005625211435815758\n",
            "[0 1] 0.9922099656276941\n",
            "[1 0] 0.9915443580479175\n",
            "[1 1] 0.01694332658239157\n",
            "epochs: 7.0\n",
            "[0 0] 0.0019544398675402134\n",
            "[0 1] 0.9934850143000605\n",
            "[1 0] 0.9934672674082785\n",
            "[1 1] 0.0007886110283729943\n",
            "epochs: 8.0\n",
            "[0 0] 0.0036493566842660274\n",
            "[0 1] 0.9950489745378326\n",
            "[1 0] 0.9943655959618727\n",
            "[1 1] 0.003149359618503074\n",
            "epochs: 9.0\n",
            "[0 0] 0.0023304944233086483\n",
            "[0 1] 0.9958242355532402\n",
            "[1 0] 0.9953474336963716\n",
            "[1 1] 0.006106035948582399\n",
            "Final prediction\n",
            "[0 0] 0.003032173692500074\n",
            "[0 1] 0.9963860761357731\n",
            "[1 0] 0.9959034563937058\n",
            "[1 1] 0.0006386449217581\n"
          ],
          "name": "stdout"
        },
        {
          "output_type": "display_data",
          "data": {
            "image/png": "[encoded data removed]",
            "text/plain": [
              "<Figure size 432x288 with 1 Axes>"
            ]
          },
          "metadata": {
            "tags": []
          }
        }
      ]
    },
    {
      "cell_type": "markdown",
      "metadata": {
        "id": "shdGm9kOrq7y",
        "colab_type": "text"
      },
      "source": [
        "* `__init__` initializes the neural networks and `net_arch` is a one-dimensional array containing the number of neurons for each layer.\n",
        "* The network weights are initialized with random values between [-1, 1].\n",
        "* a random sample is selected from the training set and propagated forward throught the network to calculate the error between the output and the target.\n",
        "* Once the error is obtained, it can be propagated backward to update the weights with stocahstic gradient descent"
      ]
    },
    {
      "cell_type": "markdown",
      "metadata": {
        "id": "kNYEkkNWs-Bn",
        "colab_type": "text"
      },
      "source": [
        "Networks with different architectures can produce different separating regions. The default network set in the `NeuralNetwork` class is `net_arch=[2, 2, 1]`.\n",
        "\n",
        "If the architecture of network is `[2, 6, 3, 1]` meaning a 3-layer neural network with 6 neurons in first hidden layer and 3 neurons in the second hidden layer."
      ]
    },
    {
      "cell_type": "code",
      "metadata": {
        "id": "cAKD_k1BuwQm",
        "colab_type": "code",
        "colab": {}
      },
      "source": [
        "X = numpy.array([[0, 0],\n",
        "                 [0, 1],\n",
        "                 [1, 0],\n",
        "                 [1, 1]])\n",
        "y = numpy.array([0, 1, 1, 0])"
      ],
      "execution_count": 0,
      "outputs": []
    },
    {
      "cell_type": "code",
      "metadata": {
        "id": "3FRDnCoRtkfD",
        "colab_type": "code",
        "colab": {
          "base_uri": "https://localhost:8080/",
          "height": 1000
        },
        "outputId": "51d96d4c-73ea-4ff5-ea17-fc293f90f58a"
      },
      "source": [
        "nn2 = NeuralNetwork([2,6,3,1])\n",
        "nn2.fit(X, y, epochs=10)\n",
        "nn2.plot_decision_regions(X, y)"
      ],
      "execution_count": 39,
      "outputs": [
        {
          "output_type": "stream",
          "text": [
            "epochs: 0.0\n",
            "[0 0] -0.26974445631427635\n",
            "[0 1] -0.15219656736874876\n",
            "[1 0] -0.17271962298801052\n",
            "[1 1] -0.1590418397758719\n",
            "epochs: 1.0\n",
            "[0 0] -0.041734579644269576\n",
            "[0 1] 0.9253514998090129\n",
            "[1 0] 0.9617554390903571\n",
            "[1 1] -0.060667607028594056\n",
            "epochs: 2.0\n",
            "[0 0] 0.08372821854662756\n",
            "[0 1] 0.984151695953317\n",
            "[1 0] 0.9912933031585588\n",
            "[1 1] 0.03995547595458207\n",
            "epochs: 3.0\n",
            "[0 0] 0.029837774848890584\n",
            "[0 1] 0.9909866423059221\n",
            "[1 0] 0.9943274790931298\n",
            "[1 1] 0.005814735402071522\n",
            "epochs: 4.0\n",
            "[0 0] -0.008610799791990044\n",
            "[0 1] 0.9934382387832077\n",
            "[1 0] 0.9961960374218689\n",
            "[1 1] -9.6825882676226e-05\n",
            "epochs: 5.0\n",
            "[0 0] -0.003521980531666846\n",
            "[0 1] 0.9951955707308058\n",
            "[1 0] 0.9967485518138721\n",
            "[1 1] -0.021249040385942657\n",
            "epochs: 6.0\n",
            "[0 0] -0.03808280999810008\n",
            "[0 1] 0.9960496055024176\n",
            "[1 0] 0.9974494680570635\n",
            "[1 1] -0.02852492602667503\n",
            "epochs: 7.0\n",
            "[0 0] 0.06016004278780042\n",
            "[0 1] 0.9969958887525493\n",
            "[1 0] 0.9978942537546279\n",
            "[1 1] -0.021691302212695666\n",
            "epochs: 8.0\n",
            "[0 0] 0.0487351207464609\n",
            "[0 1] 0.9974711695101132\n",
            "[1 0] 0.9984257362030731\n",
            "[1 1] 0.04268123465202257\n",
            "epochs: 9.0\n",
            "[0 0] -0.031899183477880906\n",
            "[0 1] 0.9976632704200351\n",
            "[1 0] 0.9984794838798575\n",
            "[1 1] -0.01245111461874152\n"
          ],
          "name": "stdout"
        },
        {
          "output_type": "display_data",
          "data": {
            "image/png": "[encoded data removed]",
            "text/plain": [
              "<Figure size 432x288 with 1 Axes>"
            ]
          },
          "metadata": {
            "tags": []
          }
        }
      ]
    },
    {
      "cell_type": "code",
      "metadata": {
        "id": "algFbFeJt3qU",
        "colab_type": "code",
        "colab": {
          "base_uri": "https://localhost:8080/",
          "height": 1000
        },
        "outputId": "edaf0f72-aadd-4ee2-dab5-c4217e45587a"
      },
      "source": [
        "nn3 = NeuralNetwork([2,6,1])\n",
        "nn3.fit(X, y, epochs=10)\n",
        "nn3.plot_decision_regions(X, y)"
      ],
      "execution_count": 40,
      "outputs": [
        {
          "output_type": "stream",
          "text": [
            "epochs: 0.0\n",
            "[0 0] 0.5726349151447196\n",
            "[0 1] -0.03317963731552788\n",
            "[1 0] 0.09099068946265666\n",
            "[1 1] -0.47079959300686786\n",
            "epochs: 1.0\n",
            "[0 0] 0.0910218465213074\n",
            "[0 1] 0.9111255103012432\n",
            "[1 0] 0.848492934302901\n",
            "[1 1] -0.008742252895677462\n",
            "epochs: 2.0\n",
            "[0 0] 0.014681411928423675\n",
            "[0 1] 0.9710339298348664\n",
            "[1 0] 0.9636899281491984\n",
            "[1 1] -0.016792362042335102\n",
            "epochs: 3.0\n",
            "[0 0] 4.838349315813671e-05\n",
            "[0 1] 0.9847164800896431\n",
            "[1 0] 0.9810681335579957\n",
            "[1 1] 0.01246415711563782\n",
            "epochs: 4.0\n",
            "[0 0] -0.0005847681941720741\n",
            "[0 1] 0.9896505766117173\n",
            "[1 0] 0.9876490741459665\n",
            "[1 1] 0.002853457897653996\n",
            "epochs: 5.0\n",
            "[0 0] 0.005539874414460294\n",
            "[0 1] 0.9922242554210602\n",
            "[1 0] 0.9913937993631492\n",
            "[1 1] 0.01945476083628835\n",
            "epochs: 6.0\n",
            "[0 0] 0.0008522702489549646\n",
            "[0 1] 0.9939513693092906\n",
            "[1 0] 0.993196024158789\n",
            "[1 1] 0.013955751622670844\n",
            "epochs: 7.0\n",
            "[0 0] 0.00199075574044996\n",
            "[0 1] 0.9950634791777201\n",
            "[1 0] 0.9942885586065661\n",
            "[1 1] 0.004231551461078023\n",
            "epochs: 8.0\n",
            "[0 0] -0.0020288207136695126\n",
            "[0 1] 0.995725558142105\n",
            "[1 0] 0.995230594888327\n",
            "[1 1] 0.0005386210749143822\n",
            "epochs: 9.0\n",
            "[0 0] -0.001967517161144346\n",
            "[0 1] 0.996202030429129\n",
            "[1 0] 0.9959750431854385\n",
            "[1 1] 0.002959047879492783\n"
          ],
          "name": "stdout"
        },
        {
          "output_type": "display_data",
          "data": {
            "image/png": "[encoded data removed]",
            "text/plain": [
              "<Figure size 432x288 with 1 Axes>"
            ]
          },
          "metadata": {
            "tags": []
          }
        }
      ]
    }
  ]
}
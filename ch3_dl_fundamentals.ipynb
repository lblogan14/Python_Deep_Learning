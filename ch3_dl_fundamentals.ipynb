{
  "nbformat": 4,
  "nbformat_minor": 0,
  "metadata": {
    "colab": {
      "name": "ch3_dl_fundamentals.ipynb",
      "version": "0.3.2",
      "provenance": [],
      "collapsed_sections": [],
      "include_colab_link": true
    },
    "kernelspec": {
      "name": "python3",
      "display_name": "Python 3"
    }
  },
  "cells": [
    {
      "cell_type": "markdown",
      "metadata": {
        "id": "view-in-github",
        "colab_type": "text"
      },
      "source": [
        "<a href=\"https://colab.research.google.com/github/lblogan14/Python_Deep_Learning/blob/master/ch3_dl_fundamentals.ipynb\" target=\"_parent\"><img src=\"https://colab.research.google.com/assets/colab-badge.svg\" alt=\"Open In Colab\"/></a>"
      ]
    },
    {
      "cell_type": "markdown",
      "metadata": {
        "id": "2buvW53wNuxi",
        "colab_type": "text"
      },
      "source": [
        "#Feature learning\n",
        "Consider a task of recognizing a simple geomettric figure, for example, a cube, as shown below.\n",
        "![](https://github.com/lblogan14/Python_Deep_Learning/blob/master/img/ch3/network_abstraction.PNG?raw=true)\n",
        "\n",
        "The cube is composed of edges (or lines), which intersect in vertices. Each possible point in the three-dimensional space is associated with a neuron. All points/neurons are in the first (input) layer of a multi-layer feed-forward network. An input point/neuron is active if the corresponding point lies on a line. The points/neurons that lie on a common line (edge) have strong positive connections to a single common edge/neuron in the next layer, or have negative connections to all other neurons in the next layer. The only exception are the neurons that lie on the vertices. Each such neuron lies simultaneously on three edges, and is connected to its three corresponding neurons in the subsequent layer.\n",
        "\n",
        "Now there are two hidden layers with different levels of abstraction - the first for points and the second for edges. Another layer for vertices is needed: each three active edge/neurons of the second layer, which form a vertex, have a significant positive connection to a single common vertex/neuron of the third layer. Since an edge of the cube forms two vertices, each\n",
        "edge/neuron will have positive connections to two vertices/neurons and negative\n",
        "connections to all others.\n",
        "\n",
        "The last hidden layer (cube) is for the four vertices/neurons forming a cube, which have positive connections to a single cube/neuron from the cube/layer.\n",
        "\n",
        "This process is called **feature engineering**, which is labor-intensive and time-consuming."
      ]
    },
    {
      "cell_type": "markdown",
      "metadata": {
        "id": "P5FxhBNEUIW-",
        "colab_type": "text"
      },
      "source": [
        "#Popular Open Source Libraries\n",
        "The versions of the libraries for the entire book\n",
        "* `TensorFlow 1.12.0`\n",
        "* `PyTorch 1.0`\n",
        "* `Keras 2.2.4`"
      ]
    },
    {
      "cell_type": "markdown",
      "metadata": {
        "id": "AodH8SazUzAS",
        "colab_type": "text"
      },
      "source": [
        "PyTorch automatically select a GPU, if one is available, reverting to the CPU otherwise...\n",
        "\n",
        "To select the device explicity,\n",
        "\n",
        "\n",
        "```\n",
        "# at beginning of the script\n",
        "device = torch.device('cuda:0' if torch.cuda.is_available() else 'cpu')\n",
        "...\n",
        "# then whenever you get a new Tensor or Module\n",
        "$ this won't copy if they are already on the desired device\n",
        "input = data.to(device)\n",
        "model = MyModule(...).to(device)\n",
        "```\n",
        "\n"
      ]
    },
    {
      "cell_type": "markdown",
      "metadata": {
        "id": "i-wmcVPSVm6o",
        "colab_type": "text"
      },
      "source": [
        "#Using Keras to classify images of objects\n",
        "Datasets: CIFAR-10 \\\\\n",
        "contains 60,000 32x32 RGB images"
      ]
    },
    {
      "cell_type": "code",
      "metadata": {
        "id": "hzKtPnUEV2TK",
        "colab_type": "code",
        "colab": {
          "base_uri": "https://localhost:8080/",
          "height": 35
        },
        "outputId": "cc39272b-a5d8-4bb7-d10d-cc2f9d0a88a9"
      },
      "source": [
        "from keras.datasets import cifar10\n",
        "from keras.layers.core import Dense, Activation\n",
        "from keras.models import Sequential\n",
        "from keras.utils import np_utils"
      ],
      "execution_count": 1,
      "outputs": [
        {
          "output_type": "stream",
          "text": [
            "Using TensorFlow backend.\n"
          ],
          "name": "stderr"
        }
      ]
    },
    {
      "cell_type": "code",
      "metadata": {
        "id": "0gNuCJG0V_3q",
        "colab_type": "code",
        "colab": {
          "base_uri": "https://localhost:8080/",
          "height": 72
        },
        "outputId": "9ba0d0d3-51f9-4c91-8a3a-e87aa51a40a2"
      },
      "source": [
        "(X_train, Y_train), (X_test, Y_test) = cifar10.load_data()\n",
        "\n",
        "X_train = X_train.reshape(50000, 3072)\n",
        "X_test = X_test.reshape(10000, 3072)"
      ],
      "execution_count": 2,
      "outputs": [
        {
          "output_type": "stream",
          "text": [
            "Downloading data from https://www.cs.toronto.edu/~kriz/cifar-10-python.tar.gz\n",
            "170500096/170498071 [==============================] - 2s 0us/step\n"
          ],
          "name": "stdout"
        }
      ]
    },
    {
      "cell_type": "markdown",
      "metadata": {
        "id": "nPP6WC81Wg1F",
        "colab_type": "text"
      },
      "source": [
        "Need to reshape the image to a one-dimensional array. Each image has 3 color channels of 32x32 pixels, hence 32x32x3=3072."
      ]
    },
    {
      "cell_type": "code",
      "metadata": {
        "id": "oTA66WgLWMEf",
        "colab_type": "code",
        "colab": {}
      },
      "source": [
        "classes = 10\n",
        "Y_train = np_utils.to_categorical(Y_train, classes)\n",
        "Y_test = np_utils.to_categorical(Y_test, classes)"
      ],
      "execution_count": 0,
      "outputs": []
    },
    {
      "cell_type": "code",
      "metadata": {
        "id": "C6Ogxuw9WUcr",
        "colab_type": "code",
        "colab": {}
      },
      "source": [
        "input_size = 3072\n",
        "batch_size = 100\n",
        "epochs = 100"
      ],
      "execution_count": 0,
      "outputs": []
    },
    {
      "cell_type": "code",
      "metadata": {
        "id": "TV2sOpZqWsUE",
        "colab_type": "code",
        "colab": {
          "base_uri": "https://localhost:8080/",
          "height": 159
        },
        "outputId": "6df869c7-e934-4d22-ca35-e69f94d5c636"
      },
      "source": [
        "model = Sequential([Dense(1024, input_dim=input_size),\n",
        "                    Activation('relu'),\n",
        "                    Dense(512),\n",
        "                    Activation('relu'),\n",
        "                    Dense(512),\n",
        "                    Activation('sigmoid'),\n",
        "                    Dense(classes),\n",
        "                    Activation('softmax')])"
      ],
      "execution_count": 5,
      "outputs": [
        {
          "output_type": "stream",
          "text": [
            "WARNING: Logging before flag parsing goes to stderr.\n",
            "W0825 20:00:54.890776 139732985882496 deprecation_wrapper.py:119] From /usr/local/lib/python3.6/dist-packages/keras/backend/tensorflow_backend.py:74: The name tf.get_default_graph is deprecated. Please use tf.compat.v1.get_default_graph instead.\n",
            "\n",
            "W0825 20:00:54.937269 139732985882496 deprecation_wrapper.py:119] From /usr/local/lib/python3.6/dist-packages/keras/backend/tensorflow_backend.py:517: The name tf.placeholder is deprecated. Please use tf.compat.v1.placeholder instead.\n",
            "\n",
            "W0825 20:00:54.946658 139732985882496 deprecation_wrapper.py:119] From /usr/local/lib/python3.6/dist-packages/keras/backend/tensorflow_backend.py:4138: The name tf.random_uniform is deprecated. Please use tf.random.uniform instead.\n",
            "\n"
          ],
          "name": "stderr"
        }
      ]
    },
    {
      "cell_type": "markdown",
      "metadata": {
        "id": "RhBPgcQ1XCee",
        "colab_type": "text"
      },
      "source": [
        "Run the training with one additional parameter, `validation=(X_test, Y_test)`"
      ]
    },
    {
      "cell_type": "code",
      "metadata": {
        "id": "BesJ3UaIXHAa",
        "colab_type": "code",
        "colab": {}
      },
      "source": [
        "model.compile(loss='categorical_crossentropy',\n",
        "              metrics=['accuracy'],\n",
        "              optimizer='sgd')\n",
        "model.fit(X_train, \n",
        "          Y_train, \n",
        "          batch_size=batch_size, \n",
        "          epochs=epochs,\n",
        "          validation_data=(X_test, Y_test),\n",
        "          verbose=1)"
      ],
      "execution_count": 0,
      "outputs": []
    },
    {
      "cell_type": "code",
      "metadata": {
        "id": "RSY6yTmVXsZX",
        "colab_type": "code",
        "colab": {}
      },
      "source": [
        "import matplotlib.pyplot as plt\n",
        "import matplotlib.cm as cm\n",
        "import matplotlib.gridspec as gridspec\n",
        "import numpy\n",
        "import random"
      ],
      "execution_count": 0,
      "outputs": []
    },
    {
      "cell_type": "code",
      "metadata": {
        "id": "UwrgWljGXuwo",
        "colab_type": "code",
        "colab": {}
      },
      "source": [
        "fig = plt.figure()\n",
        "outer_grid = gridspec.GridSpec(10, 10, wspace=0.0, hspace=0.0)"
      ],
      "execution_count": 0,
      "outputs": []
    },
    {
      "cell_type": "code",
      "metadata": {
        "id": "N4oY9M0OX08g",
        "colab_type": "code",
        "colab": {}
      },
      "source": [
        "weights = model.layers[0].get_weights()\n",
        "\n",
        "w = .weights[0].T"
      ],
      "execution_count": 0,
      "outputs": []
    },
    {
      "cell_type": "markdown",
      "metadata": {
        "id": "Y2k-rirxYcDj",
        "colab_type": "text"
      },
      "source": [
        "To visualize the weights of 100 random neurons from the first layer. Reshape the weights to 32x32 arrays and then compute the mean value of the 3 color channels to produce a grayscale image:"
      ]
    },
    {
      "cell_type": "code",
      "metadata": {
        "id": "cGUauZxbX45l",
        "colab_type": "code",
        "colab": {}
      },
      "source": [
        "for i, neuron in enumerate(random.sample(range(0, 1023), 100)):\n",
        "  ax = plt.Subplot(fig, outer_grid[i])\n",
        "  ax.imshow(numpy.mean(numpy.reshape(w[i], (32, 32, 3)), axis=2), cmap=cm.Greys_r)\n",
        "  ax.set_xticks([])\n",
        "  ax.set_yticsk([])\n",
        "  fig.add_subplot(ax)\n",
        "  \n",
        "plt.show()"
      ],
      "execution_count": 0,
      "outputs": []
    }
  ]
}
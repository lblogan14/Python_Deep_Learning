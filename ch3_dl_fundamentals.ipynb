{
  "nbformat": 4,
  "nbformat_minor": 0,
  "metadata": {
    "colab": {
      "name": "ch3_dl_fundamentals.ipynb",
      "version": "0.3.2",
      "provenance": [],
      "collapsed_sections": [],
      "include_colab_link": true
    },
    "kernelspec": {
      "name": "python3",
      "display_name": "Python 3"
    }
  },
  "cells": [
    {
      "cell_type": "markdown",
      "metadata": {
        "id": "view-in-github",
        "colab_type": "text"
      },
      "source": [
        "<a href=\"https://colab.research.google.com/github/lblogan14/Python_Deep_Learning/blob/master/ch3_dl_fundamentals.ipynb\" target=\"_parent\"><img src=\"https://colab.research.google.com/assets/colab-badge.svg\" alt=\"Open In Colab\"/></a>"
      ]
    },
    {
      "cell_type": "markdown",
      "metadata": {
        "id": "2buvW53wNuxi",
        "colab_type": "text"
      },
      "source": [
        "#Feature learning\n",
        "Consider a task of recognizing a simple geomettric figure, for example, a cube, as shown below.\n",
        "![](https://github.com/lblogan14/Python_Deep_Learning/blob/master/img/ch3/network_abstraction.PNG?raw=true)\n",
        "\n",
        "The cube is composed of edges (or lines), which intersect in vertices. Each possible point in the three-dimensional space is associated with a neuron. All points/neurons are in the first (input) layer of a multi-layer feed-forward network. An input point/neuron is active if the corresponding point lies on a line. The points/neurons that lie on a common line (edge) have strong positive connections to a single common edge/neuron in the next layer, or have negative connections to all other neurons in the next layer. The only exception are the neurons that lie on the vertices. Each such neuron lies simultaneously on three edges, and is connected to its three corresponding neurons in the subsequent layer.\n",
        "\n",
        "Now there are two hidden layers with different levels of abstraction - the first for points and the second for edges. Another layer for vertices is needed: each three active edge/neurons of the second layer, which form a vertex, have a significant positive connection to a single common vertex/neuron of the third layer. Since an edge of the cube forms two vertices, each\n",
        "edge/neuron will have positive connections to two vertices/neurons and negative\n",
        "connections to all others.\n",
        "\n",
        "The last hidden layer (cube) is for the four vertices/neurons forming a cube, which have positive connections to a single cube/neuron from the cube/layer.\n",
        "\n",
        "This process is called **feature engineering**, which is labor-intensive and time-consuming."
      ]
    },
    {
      "cell_type": "markdown",
      "metadata": {
        "id": "P5FxhBNEUIW-",
        "colab_type": "text"
      },
      "source": [
        "#Popular Open Source Libraries\n",
        "The versions of the libraries for the entire book\n",
        "* `TensorFlow 1.12.0`\n",
        "* `PyTorch 1.0`\n",
        "* `Keras 2.2.4`"
      ]
    },
    {
      "cell_type": "markdown",
      "metadata": {
        "id": "AodH8SazUzAS",
        "colab_type": "text"
      },
      "source": [
        "PyTorch automatically select a GPU, if one is available, reverting to the CPU otherwise...\n",
        "\n",
        "To select the device explicity,\n",
        "\n",
        "\n",
        "```\n",
        "# at beginning of the script\n",
        "device = torch.device('cuda:0' if torch.cuda.is_available() else 'cpu')\n",
        "...\n",
        "# then whenever you get a new Tensor or Module\n",
        "$ this won't copy if they are already on the desired device\n",
        "input = data.to(device)\n",
        "model = MyModule(...).to(device)\n",
        "```\n",
        "\n"
      ]
    },
    {
      "cell_type": "markdown",
      "metadata": {
        "id": "i-wmcVPSVm6o",
        "colab_type": "text"
      },
      "source": [
        "#Using Keras to classify images of objects\n",
        "Datasets: CIFAR-10 \\\\\n",
        "contains 60,000 32x32 RGB images"
      ]
    },
    {
      "cell_type": "code",
      "metadata": {
        "id": "hzKtPnUEV2TK",
        "colab_type": "code",
        "colab": {
          "base_uri": "https://localhost:8080/",
          "height": 35
        },
        "outputId": "79e73fdd-edd5-439a-c78f-ff96413b024e"
      },
      "source": [
        "from keras.datasets import cifar10\n",
        "from keras.layers.core import Dense, Activation\n",
        "from keras.models import Sequential\n",
        "from keras.utils import np_utils"
      ],
      "execution_count": 1,
      "outputs": [
        {
          "output_type": "stream",
          "text": [
            "Using TensorFlow backend.\n"
          ],
          "name": "stderr"
        }
      ]
    },
    {
      "cell_type": "code",
      "metadata": {
        "id": "0gNuCJG0V_3q",
        "colab_type": "code",
        "colab": {
          "base_uri": "https://localhost:8080/",
          "height": 52
        },
        "outputId": "99c466fd-62eb-483e-ab3b-a6fabb7e9749"
      },
      "source": [
        "(X_train, Y_train), (X_test, Y_test) = cifar10.load_data()\n",
        "\n",
        "X_train = X_train.reshape(50000, 3072)\n",
        "X_test = X_test.reshape(10000, 3072)"
      ],
      "execution_count": 2,
      "outputs": [
        {
          "output_type": "stream",
          "text": [
            "Downloading data from https://www.cs.toronto.edu/~kriz/cifar-10-python.tar.gz\n",
            "170500096/170498071 [==============================] - 4s 0us/step\n"
          ],
          "name": "stdout"
        }
      ]
    },
    {
      "cell_type": "markdown",
      "metadata": {
        "id": "nPP6WC81Wg1F",
        "colab_type": "text"
      },
      "source": [
        "Need to reshape the image to a one-dimensional array. Each image has 3 color channels of 32x32 pixels, hence 32x32x3=3072."
      ]
    },
    {
      "cell_type": "code",
      "metadata": {
        "id": "oTA66WgLWMEf",
        "colab_type": "code",
        "colab": {}
      },
      "source": [
        "classes = 10\n",
        "Y_train = np_utils.to_categorical(Y_train, classes)\n",
        "Y_test = np_utils.to_categorical(Y_test, classes)"
      ],
      "execution_count": 0,
      "outputs": []
    },
    {
      "cell_type": "code",
      "metadata": {
        "id": "C6Ogxuw9WUcr",
        "colab_type": "code",
        "colab": {}
      },
      "source": [
        "input_size = 3072\n",
        "batch_size = 500\n",
        "epochs = 20"
      ],
      "execution_count": 0,
      "outputs": []
    },
    {
      "cell_type": "code",
      "metadata": {
        "id": "TV2sOpZqWsUE",
        "colab_type": "code",
        "colab": {}
      },
      "source": [
        "model = Sequential([Dense(1024, input_dim=input_size),\n",
        "                    Activation('relu'),\n",
        "                    Dense(512),\n",
        "                    Activation('relu'),\n",
        "                    Dense(512),\n",
        "                    Activation('sigmoid'),\n",
        "                    Dense(classes),\n",
        "                    Activation('softmax')])"
      ],
      "execution_count": 0,
      "outputs": []
    },
    {
      "cell_type": "markdown",
      "metadata": {
        "id": "RhBPgcQ1XCee",
        "colab_type": "text"
      },
      "source": [
        "Run the training with one additional parameter, `validation=(X_test, Y_test)`"
      ]
    },
    {
      "cell_type": "code",
      "metadata": {
        "id": "BesJ3UaIXHAa",
        "colab_type": "code",
        "colab": {
          "base_uri": "https://localhost:8080/",
          "height": 745
        },
        "outputId": "245e3ab7-701f-41ce-ad5f-24ae5053cb64"
      },
      "source": [
        "model.compile(loss='categorical_crossentropy',\n",
        "              metrics=['accuracy'],\n",
        "              optimizer='sgd')\n",
        "model.fit(X_train, \n",
        "          Y_train, \n",
        "          batch_size=batch_size, \n",
        "          epochs=epochs,\n",
        "          validation_data=(X_test, Y_test),\n",
        "          verbose=1)"
      ],
      "execution_count": 11,
      "outputs": [
        {
          "output_type": "stream",
          "text": [
            "Train on 50000 samples, validate on 10000 samples\n",
            "Epoch 1/20\n",
            "50000/50000 [==============================] - 19s 384us/step - loss: 2.1232 - acc: 0.2310 - val_loss: 2.0082 - val_acc: 0.2816\n",
            "Epoch 2/20\n",
            "50000/50000 [==============================] - 19s 377us/step - loss: 1.9734 - acc: 0.2928 - val_loss: 1.9124 - val_acc: 0.3268\n",
            "Epoch 3/20\n",
            "50000/50000 [==============================] - 19s 374us/step - loss: 1.9104 - acc: 0.3171 - val_loss: 1.8814 - val_acc: 0.3334\n",
            "Epoch 4/20\n",
            "50000/50000 [==============================] - 19s 376us/step - loss: 1.8621 - acc: 0.3338 - val_loss: 1.8566 - val_acc: 0.3385\n",
            "Epoch 5/20\n",
            "50000/50000 [==============================] - 19s 374us/step - loss: 1.8267 - acc: 0.3469 - val_loss: 1.7980 - val_acc: 0.3600\n",
            "Epoch 6/20\n",
            "50000/50000 [==============================] - 19s 375us/step - loss: 1.8007 - acc: 0.3570 - val_loss: 1.7783 - val_acc: 0.3693\n",
            "Epoch 7/20\n",
            "50000/50000 [==============================] - 19s 376us/step - loss: 1.7802 - acc: 0.3641 - val_loss: 1.7775 - val_acc: 0.3696\n",
            "Epoch 8/20\n",
            "50000/50000 [==============================] - 19s 374us/step - loss: 1.7615 - acc: 0.3713 - val_loss: 1.7574 - val_acc: 0.3781\n",
            "Epoch 9/20\n",
            "50000/50000 [==============================] - 19s 375us/step - loss: 1.7453 - acc: 0.3774 - val_loss: 1.7492 - val_acc: 0.3725\n",
            "Epoch 10/20\n",
            "50000/50000 [==============================] - 19s 375us/step - loss: 1.7193 - acc: 0.3863 - val_loss: 1.6948 - val_acc: 0.3957\n",
            "Epoch 11/20\n",
            "50000/50000 [==============================] - 19s 376us/step - loss: 1.6932 - acc: 0.3942 - val_loss: 1.7037 - val_acc: 0.3888\n",
            "Epoch 12/20\n",
            "50000/50000 [==============================] - 19s 374us/step - loss: 1.6861 - acc: 0.3982 - val_loss: 1.6932 - val_acc: 0.3989\n",
            "Epoch 13/20\n",
            "50000/50000 [==============================] - 18s 370us/step - loss: 1.6762 - acc: 0.4044 - val_loss: 1.6969 - val_acc: 0.4087\n",
            "Epoch 14/20\n",
            "50000/50000 [==============================] - 18s 366us/step - loss: 1.6626 - acc: 0.4065 - val_loss: 1.6575 - val_acc: 0.4067\n",
            "Epoch 15/20\n",
            "50000/50000 [==============================] - 18s 367us/step - loss: 1.6443 - acc: 0.4145 - val_loss: 1.6318 - val_acc: 0.4211\n",
            "Epoch 16/20\n",
            "50000/50000 [==============================] - 19s 382us/step - loss: 1.6281 - acc: 0.4194 - val_loss: 1.6473 - val_acc: 0.4129\n",
            "Epoch 17/20\n",
            "50000/50000 [==============================] - 19s 378us/step - loss: 1.6219 - acc: 0.4222 - val_loss: 1.6317 - val_acc: 0.4233\n",
            "Epoch 18/20\n",
            "50000/50000 [==============================] - 19s 381us/step - loss: 1.6072 - acc: 0.4311 - val_loss: 1.6208 - val_acc: 0.4284\n",
            "Epoch 19/20\n",
            "50000/50000 [==============================] - 19s 379us/step - loss: 1.5987 - acc: 0.4321 - val_loss: 1.6146 - val_acc: 0.4225\n",
            "Epoch 20/20\n",
            "50000/50000 [==============================] - 19s 379us/step - loss: 1.5839 - acc: 0.4372 - val_loss: 1.5875 - val_acc: 0.4315\n"
          ],
          "name": "stdout"
        },
        {
          "output_type": "execute_result",
          "data": {
            "text/plain": [
              "<keras.callbacks.History at 0x7f804c3bc5c0>"
            ]
          },
          "metadata": {
            "tags": []
          },
          "execution_count": 11
        }
      ]
    },
    {
      "cell_type": "code",
      "metadata": {
        "id": "RSY6yTmVXsZX",
        "colab_type": "code",
        "colab": {}
      },
      "source": [
        "import matplotlib.pyplot as plt\n",
        "import matplotlib.cm as cm\n",
        "import matplotlib.gridspec as gridspec\n",
        "import numpy\n",
        "import random"
      ],
      "execution_count": 0,
      "outputs": []
    },
    {
      "cell_type": "code",
      "metadata": {
        "id": "UwrgWljGXuwo",
        "colab_type": "code",
        "colab": {
          "base_uri": "https://localhost:8080/",
          "height": 35
        },
        "outputId": "e22d217e-dba5-4260-ef46-115dfd97da46"
      },
      "source": [
        "fig = plt.figure()\n",
        "outer_grid = gridspec.GridSpec(10, 10, wspace=0.0, hspace=0.0)"
      ],
      "execution_count": 13,
      "outputs": [
        {
          "output_type": "display_data",
          "data": {
            "text/plain": [
              "<Figure size 432x288 with 0 Axes>"
            ]
          },
          "metadata": {
            "tags": []
          }
        }
      ]
    },
    {
      "cell_type": "code",
      "metadata": {
        "id": "N4oY9M0OX08g",
        "colab_type": "code",
        "colab": {}
      },
      "source": [
        "weights = model.layers[0].get_weights()\n",
        "\n",
        "w = weights[0].T"
      ],
      "execution_count": 0,
      "outputs": []
    },
    {
      "cell_type": "markdown",
      "metadata": {
        "id": "Y2k-rirxYcDj",
        "colab_type": "text"
      },
      "source": [
        "To visualize the weights of 100 random neurons from the first layer. Reshape the weights to 32x32 arrays and then compute the mean value of the 3 color channels to produce a grayscale image:"
      ]
    },
    {
      "cell_type": "code",
      "metadata": {
        "id": "cGUauZxbX45l",
        "colab_type": "code",
        "colab": {}
      },
      "source": [
        "for i, neuron in enumerate(random.sample(range(0, 1023), 100)):\n",
        "  ax = plt.Subplot(fig, outer_grid[i])\n",
        "  ax.imshow(numpy.mean(numpy.reshape(w[i], (32, 32, 3)), axis=2), cmap=cm.Greys_r)\n",
        "  ax.set_xticks([])\n",
        "  ax.set_yticks([])\n",
        "  fig.add_subplot(ax)\n",
        "  \n",
        "plt.show()"
      ],
      "execution_count": 0,
      "outputs": []
    }
  ]
}